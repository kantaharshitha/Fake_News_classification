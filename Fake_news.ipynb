{
 "cells": [
  {
   "cell_type": "code",
   "execution_count": 18,
   "id": "f8d838a6",
   "metadata": {},
   "outputs": [],
   "source": [
    "import numpy as np\n",
    "import matplotlib.pyplot as plt\n",
    "%matplotlib inline\n",
    "import pandas as pd\n",
    "from sklearn.svm import LinearSVC\n",
    "from sklearn.linear_model import LogisticRegression\n",
    "from sklearn.model_selection import train_test_split\n",
    "from sklearn.metrics import accuracy_score, precision_score, recall_score, f1_score, classification_report, confusion_matrix\n",
    "from sklearn.feature_extraction.text import CountVectorizer\n",
    "from sklearn.ensemble import RandomForestClassifier\n",
    "np.random.seed(1234)"
   ]
  },
  {
   "cell_type": "code",
   "execution_count": 2,
   "id": "e56a150e",
   "metadata": {},
   "outputs": [
    {
     "data": {
      "text/html": [
       "<div>\n",
       "<style scoped>\n",
       "    .dataframe tbody tr th:only-of-type {\n",
       "        vertical-align: middle;\n",
       "    }\n",
       "\n",
       "    .dataframe tbody tr th {\n",
       "        vertical-align: top;\n",
       "    }\n",
       "\n",
       "    .dataframe thead th {\n",
       "        text-align: right;\n",
       "    }\n",
       "</style>\n",
       "<table border=\"1\" class=\"dataframe\">\n",
       "  <thead>\n",
       "    <tr style=\"text-align: right;\">\n",
       "      <th></th>\n",
       "      <th>Unnamed: 0</th>\n",
       "      <th>title</th>\n",
       "      <th>text</th>\n",
       "      <th>label</th>\n",
       "    </tr>\n",
       "  </thead>\n",
       "  <tbody>\n",
       "    <tr>\n",
       "      <th>0</th>\n",
       "      <td>0</td>\n",
       "      <td>LAW ENFORCEMENT ON HIGH ALERT Following Threat...</td>\n",
       "      <td>No comment is expected from Barack Obama Membe...</td>\n",
       "      <td>1</td>\n",
       "    </tr>\n",
       "    <tr>\n",
       "      <th>1</th>\n",
       "      <td>1</td>\n",
       "      <td>NaN</td>\n",
       "      <td>Did they post their votes for Hillary already?</td>\n",
       "      <td>1</td>\n",
       "    </tr>\n",
       "    <tr>\n",
       "      <th>2</th>\n",
       "      <td>2</td>\n",
       "      <td>UNBELIEVABLE! OBAMA’S ATTORNEY GENERAL SAYS MO...</td>\n",
       "      <td>Now, most of the demonstrators gathered last ...</td>\n",
       "      <td>1</td>\n",
       "    </tr>\n",
       "    <tr>\n",
       "      <th>3</th>\n",
       "      <td>3</td>\n",
       "      <td>Bobby Jindal, raised Hindu, uses story of Chri...</td>\n",
       "      <td>A dozen politically active pastors came here f...</td>\n",
       "      <td>0</td>\n",
       "    </tr>\n",
       "    <tr>\n",
       "      <th>4</th>\n",
       "      <td>4</td>\n",
       "      <td>SATAN 2: Russia unvelis an image of its terrif...</td>\n",
       "      <td>The RS-28 Sarmat missile, dubbed Satan 2, will...</td>\n",
       "      <td>1</td>\n",
       "    </tr>\n",
       "  </tbody>\n",
       "</table>\n",
       "</div>"
      ],
      "text/plain": [
       "   Unnamed: 0                                              title  \\\n",
       "0           0  LAW ENFORCEMENT ON HIGH ALERT Following Threat...   \n",
       "1           1                                                NaN   \n",
       "2           2  UNBELIEVABLE! OBAMA’S ATTORNEY GENERAL SAYS MO...   \n",
       "3           3  Bobby Jindal, raised Hindu, uses story of Chri...   \n",
       "4           4  SATAN 2: Russia unvelis an image of its terrif...   \n",
       "\n",
       "                                                text  label  \n",
       "0  No comment is expected from Barack Obama Membe...      1  \n",
       "1     Did they post their votes for Hillary already?      1  \n",
       "2   Now, most of the demonstrators gathered last ...      1  \n",
       "3  A dozen politically active pastors came here f...      0  \n",
       "4  The RS-28 Sarmat missile, dubbed Satan 2, will...      1  "
      ]
     },
     "execution_count": 2,
     "metadata": {},
     "output_type": "execute_result"
    }
   ],
   "source": [
    "data = pd.read_csv('WELFake_Dataset.csv')\n",
    "data.head()"
   ]
  },
  {
   "cell_type": "code",
   "execution_count": 3,
   "id": "525b54b7",
   "metadata": {},
   "outputs": [],
   "source": [
    "data=data.iloc[: , 1:]"
   ]
  },
  {
   "cell_type": "code",
   "execution_count": 4,
   "id": "03233efc",
   "metadata": {},
   "outputs": [
    {
     "data": {
      "text/html": [
       "<div>\n",
       "<style scoped>\n",
       "    .dataframe tbody tr th:only-of-type {\n",
       "        vertical-align: middle;\n",
       "    }\n",
       "\n",
       "    .dataframe tbody tr th {\n",
       "        vertical-align: top;\n",
       "    }\n",
       "\n",
       "    .dataframe thead th {\n",
       "        text-align: right;\n",
       "    }\n",
       "</style>\n",
       "<table border=\"1\" class=\"dataframe\">\n",
       "  <thead>\n",
       "    <tr style=\"text-align: right;\">\n",
       "      <th></th>\n",
       "      <th>title</th>\n",
       "      <th>text</th>\n",
       "      <th>label</th>\n",
       "    </tr>\n",
       "  </thead>\n",
       "  <tbody>\n",
       "    <tr>\n",
       "      <th>0</th>\n",
       "      <td>LAW ENFORCEMENT ON HIGH ALERT Following Threat...</td>\n",
       "      <td>No comment is expected from Barack Obama Membe...</td>\n",
       "      <td>1</td>\n",
       "    </tr>\n",
       "    <tr>\n",
       "      <th>1</th>\n",
       "      <td>NaN</td>\n",
       "      <td>Did they post their votes for Hillary already?</td>\n",
       "      <td>1</td>\n",
       "    </tr>\n",
       "    <tr>\n",
       "      <th>2</th>\n",
       "      <td>UNBELIEVABLE! OBAMA’S ATTORNEY GENERAL SAYS MO...</td>\n",
       "      <td>Now, most of the demonstrators gathered last ...</td>\n",
       "      <td>1</td>\n",
       "    </tr>\n",
       "    <tr>\n",
       "      <th>3</th>\n",
       "      <td>Bobby Jindal, raised Hindu, uses story of Chri...</td>\n",
       "      <td>A dozen politically active pastors came here f...</td>\n",
       "      <td>0</td>\n",
       "    </tr>\n",
       "    <tr>\n",
       "      <th>4</th>\n",
       "      <td>SATAN 2: Russia unvelis an image of its terrif...</td>\n",
       "      <td>The RS-28 Sarmat missile, dubbed Satan 2, will...</td>\n",
       "      <td>1</td>\n",
       "    </tr>\n",
       "  </tbody>\n",
       "</table>\n",
       "</div>"
      ],
      "text/plain": [
       "                                               title  \\\n",
       "0  LAW ENFORCEMENT ON HIGH ALERT Following Threat...   \n",
       "1                                                NaN   \n",
       "2  UNBELIEVABLE! OBAMA’S ATTORNEY GENERAL SAYS MO...   \n",
       "3  Bobby Jindal, raised Hindu, uses story of Chri...   \n",
       "4  SATAN 2: Russia unvelis an image of its terrif...   \n",
       "\n",
       "                                                text  label  \n",
       "0  No comment is expected from Barack Obama Membe...      1  \n",
       "1     Did they post their votes for Hillary already?      1  \n",
       "2   Now, most of the demonstrators gathered last ...      1  \n",
       "3  A dozen politically active pastors came here f...      0  \n",
       "4  The RS-28 Sarmat missile, dubbed Satan 2, will...      1  "
      ]
     },
     "execution_count": 4,
     "metadata": {},
     "output_type": "execute_result"
    }
   ],
   "source": [
    "data.head()"
   ]
  },
  {
   "cell_type": "code",
   "execution_count": 5,
   "id": "bf15c468",
   "metadata": {},
   "outputs": [
    {
     "data": {
      "text/html": [
       "<div>\n",
       "<style scoped>\n",
       "    .dataframe tbody tr th:only-of-type {\n",
       "        vertical-align: middle;\n",
       "    }\n",
       "\n",
       "    .dataframe tbody tr th {\n",
       "        vertical-align: top;\n",
       "    }\n",
       "\n",
       "    .dataframe thead th {\n",
       "        text-align: right;\n",
       "    }\n",
       "</style>\n",
       "<table border=\"1\" class=\"dataframe\">\n",
       "  <thead>\n",
       "    <tr style=\"text-align: right;\">\n",
       "      <th></th>\n",
       "      <th>label</th>\n",
       "    </tr>\n",
       "  </thead>\n",
       "  <tbody>\n",
       "    <tr>\n",
       "      <th>count</th>\n",
       "      <td>72134.000000</td>\n",
       "    </tr>\n",
       "    <tr>\n",
       "      <th>mean</th>\n",
       "      <td>0.514404</td>\n",
       "    </tr>\n",
       "    <tr>\n",
       "      <th>std</th>\n",
       "      <td>0.499796</td>\n",
       "    </tr>\n",
       "    <tr>\n",
       "      <th>min</th>\n",
       "      <td>0.000000</td>\n",
       "    </tr>\n",
       "    <tr>\n",
       "      <th>25%</th>\n",
       "      <td>0.000000</td>\n",
       "    </tr>\n",
       "    <tr>\n",
       "      <th>50%</th>\n",
       "      <td>1.000000</td>\n",
       "    </tr>\n",
       "    <tr>\n",
       "      <th>75%</th>\n",
       "      <td>1.000000</td>\n",
       "    </tr>\n",
       "    <tr>\n",
       "      <th>max</th>\n",
       "      <td>1.000000</td>\n",
       "    </tr>\n",
       "  </tbody>\n",
       "</table>\n",
       "</div>"
      ],
      "text/plain": [
       "              label\n",
       "count  72134.000000\n",
       "mean       0.514404\n",
       "std        0.499796\n",
       "min        0.000000\n",
       "25%        0.000000\n",
       "50%        1.000000\n",
       "75%        1.000000\n",
       "max        1.000000"
      ]
     },
     "execution_count": 5,
     "metadata": {},
     "output_type": "execute_result"
    }
   ],
   "source": [
    "data.describe()"
   ]
  },
  {
   "cell_type": "code",
   "execution_count": 6,
   "id": "76af0b62",
   "metadata": {},
   "outputs": [
    {
     "data": {
      "text/plain": [
       "(72134, 3)"
      ]
     },
     "execution_count": 6,
     "metadata": {},
     "output_type": "execute_result"
    }
   ],
   "source": [
    "data.shape"
   ]
  },
  {
   "cell_type": "code",
   "execution_count": 7,
   "id": "4a76e129",
   "metadata": {},
   "outputs": [
    {
     "data": {
      "text/html": [
       "<div>\n",
       "<style scoped>\n",
       "    .dataframe tbody tr th:only-of-type {\n",
       "        vertical-align: middle;\n",
       "    }\n",
       "\n",
       "    .dataframe tbody tr th {\n",
       "        vertical-align: top;\n",
       "    }\n",
       "\n",
       "    .dataframe thead th {\n",
       "        text-align: right;\n",
       "    }\n",
       "</style>\n",
       "<table border=\"1\" class=\"dataframe\">\n",
       "  <thead>\n",
       "    <tr style=\"text-align: right;\">\n",
       "      <th></th>\n",
       "      <th>title</th>\n",
       "      <th>text</th>\n",
       "      <th>label</th>\n",
       "    </tr>\n",
       "  </thead>\n",
       "  <tbody>\n",
       "    <tr>\n",
       "      <th>0</th>\n",
       "      <td>False</td>\n",
       "      <td>False</td>\n",
       "      <td>False</td>\n",
       "    </tr>\n",
       "    <tr>\n",
       "      <th>1</th>\n",
       "      <td>True</td>\n",
       "      <td>False</td>\n",
       "      <td>False</td>\n",
       "    </tr>\n",
       "    <tr>\n",
       "      <th>2</th>\n",
       "      <td>False</td>\n",
       "      <td>False</td>\n",
       "      <td>False</td>\n",
       "    </tr>\n",
       "    <tr>\n",
       "      <th>3</th>\n",
       "      <td>False</td>\n",
       "      <td>False</td>\n",
       "      <td>False</td>\n",
       "    </tr>\n",
       "    <tr>\n",
       "      <th>4</th>\n",
       "      <td>False</td>\n",
       "      <td>False</td>\n",
       "      <td>False</td>\n",
       "    </tr>\n",
       "    <tr>\n",
       "      <th>...</th>\n",
       "      <td>...</td>\n",
       "      <td>...</td>\n",
       "      <td>...</td>\n",
       "    </tr>\n",
       "    <tr>\n",
       "      <th>72129</th>\n",
       "      <td>False</td>\n",
       "      <td>False</td>\n",
       "      <td>False</td>\n",
       "    </tr>\n",
       "    <tr>\n",
       "      <th>72130</th>\n",
       "      <td>False</td>\n",
       "      <td>False</td>\n",
       "      <td>False</td>\n",
       "    </tr>\n",
       "    <tr>\n",
       "      <th>72131</th>\n",
       "      <td>False</td>\n",
       "      <td>False</td>\n",
       "      <td>False</td>\n",
       "    </tr>\n",
       "    <tr>\n",
       "      <th>72132</th>\n",
       "      <td>False</td>\n",
       "      <td>False</td>\n",
       "      <td>False</td>\n",
       "    </tr>\n",
       "    <tr>\n",
       "      <th>72133</th>\n",
       "      <td>False</td>\n",
       "      <td>False</td>\n",
       "      <td>False</td>\n",
       "    </tr>\n",
       "  </tbody>\n",
       "</table>\n",
       "<p>72134 rows × 3 columns</p>\n",
       "</div>"
      ],
      "text/plain": [
       "       title   text  label\n",
       "0      False  False  False\n",
       "1       True  False  False\n",
       "2      False  False  False\n",
       "3      False  False  False\n",
       "4      False  False  False\n",
       "...      ...    ...    ...\n",
       "72129  False  False  False\n",
       "72130  False  False  False\n",
       "72131  False  False  False\n",
       "72132  False  False  False\n",
       "72133  False  False  False\n",
       "\n",
       "[72134 rows x 3 columns]"
      ]
     },
     "execution_count": 7,
     "metadata": {},
     "output_type": "execute_result"
    }
   ],
   "source": [
    "data.isnull()"
   ]
  },
  {
   "cell_type": "code",
   "execution_count": 8,
   "id": "5414fea5",
   "metadata": {},
   "outputs": [],
   "source": [
    "data = data.fillna(' ')"
   ]
  },
  {
   "cell_type": "code",
   "execution_count": 9,
   "id": "2ec79447",
   "metadata": {},
   "outputs": [
    {
     "data": {
      "text/plain": [
       "title    0\n",
       "text     0\n",
       "label    0\n",
       "dtype: int64"
      ]
     },
     "execution_count": 9,
     "metadata": {},
     "output_type": "execute_result"
    }
   ],
   "source": [
    "data.isnull().sum()"
   ]
  },
  {
   "cell_type": "code",
   "execution_count": 10,
   "id": "17444f56",
   "metadata": {},
   "outputs": [],
   "source": [
    "data[\"content\"] = data[\"title\"] + data[\"text\"]"
   ]
  },
  {
   "cell_type": "code",
   "execution_count": 11,
   "id": "63c64ecc",
   "metadata": {},
   "outputs": [],
   "source": [
    "X_train, X_test, Y_train, Y_test = train_test_split(data[\"content\"], data['label'], test_size=0.25, random_state=1234)"
   ]
  },
  {
   "cell_type": "code",
   "execution_count": 12,
   "id": "a8d1af49",
   "metadata": {},
   "outputs": [],
   "source": [
    "# Convert text data to CountVector features\n",
    "count_vectorizer = CountVectorizer(stop_words='english', max_df=0.7)\n",
    "count_train = count_vectorizer.fit_transform(X_train)\n",
    "count_test = count_vectorizer.transform(X_test)\n"
   ]
  },
  {
   "cell_type": "code",
   "execution_count": 13,
   "id": "936f5df4",
   "metadata": {},
   "outputs": [
    {
     "name": "stdout",
     "output_type": "stream",
     "text": [
      "(54100, 236389)\n",
      "10862    0\n",
      "32643    1\n",
      "15858    1\n",
      "28856    1\n",
      "2691     1\n",
      "        ..\n",
      "55985    1\n",
      "32399    0\n",
      "60620    1\n",
      "34086    0\n",
      "58067    0\n",
      "Name: label, Length: 54100, dtype: int64\n",
      "Train Accuracy: 1.0\n",
      "Test Accuracy: 0.9424975047133193\n",
      "Test precision: 0.9388941748599218\n",
      "Test recall: 0.9508565310492505\n",
      "Test f1: 0.9448374913559232\n",
      "Test confusion matrix: [[8116  578]\n",
      " [ 459 8881]]\n",
      "Test Report:               precision    recall  f1-score   support\n",
      "\n",
      "           0       0.95      0.93      0.94      8694\n",
      "           1       0.94      0.95      0.94      9340\n",
      "\n",
      "    accuracy                           0.94     18034\n",
      "   macro avg       0.94      0.94      0.94     18034\n",
      "weighted avg       0.94      0.94      0.94     18034\n",
      "\n"
     ]
    }
   ],
   "source": [
    "## RandomForest Classifier\n",
    "rf_classifier  = RandomForestClassifier(n_estimators=100,random_state=123)\n",
    "#print(count_train.shape) \n",
    "#print(Y_train)\n",
    "\n",
    "rf_classifier.fit(count_train, Y_train)\n",
    "y_pred_train = rf_classifier.predict(count_train)\n",
    "accuracy_train = accuracy_score(Y_train, y_pred_train)\n",
    "print(\"Train Accuracy:\", accuracy_train)\n",
    "\n",
    "y_pred = rf_classifier.predict(count_test)\n",
    "accuracy = accuracy_score(Y_test, y_pred)\n",
    "print(\"Test Accuracy:\", accuracy)\n",
    "\n",
    "precision = precision_score(Y_test, y_pred)\n",
    "print(\"Test precision:\", precision)\n",
    "\n",
    "recall = recall_score(Y_test, y_pred)\n",
    "print(\"Test recall:\", recall)\n",
    "\n",
    "f1 = f1_score(Y_test, y_pred)\n",
    "print(\"Test f1:\", f1)\n",
    "\n",
    "confusion=confusion_matrix(Y_test, y_pred)\n",
    "print(\"Test confusion matrix:\",confusion)\n",
    "\n",
    "report = classification_report(Y_test, y_pred)\n",
    "print(\"Test Report:\", report)"
   ]
  },
  {
   "cell_type": "code",
   "execution_count": 21,
   "id": "eb730291",
   "metadata": {},
   "outputs": [
    {
     "name": "stderr",
     "output_type": "stream",
     "text": [
      "C:\\Users\\kanta\\anaconda3\\lib\\site-packages\\sklearn\\svm\\_base.py:1206: ConvergenceWarning: Liblinear failed to converge, increase the number of iterations.\n",
      "  warnings.warn(\n"
     ]
    },
    {
     "name": "stdout",
     "output_type": "stream",
     "text": [
      "Train Accuracy: 1.0\n",
      "Test Accuracy: 0.9424975047133193\n",
      "Test precision: 0.9388941748599218\n",
      "Test recall: 0.9508565310492505\n",
      "Test f1: 0.9448374913559232\n",
      "Test confusion matrix: [[8116  578]\n",
      " [ 459 8881]]\n",
      "Test Report:               precision    recall  f1-score   support\n",
      "\n",
      "           0       0.95      0.93      0.94      8694\n",
      "           1       0.94      0.95      0.94      9340\n",
      "\n",
      "    accuracy                           0.94     18034\n",
      "   macro avg       0.94      0.94      0.94     18034\n",
      "weighted avg       0.94      0.94      0.94     18034\n",
      "\n"
     ]
    }
   ],
   "source": [
    "##Linear SVC\n",
    "svm_classifier = LinearSVC()\n",
    "svm_classifier.fit(count_train, Y_train)\n",
    "\n",
    "y_pred_train = svm_classifier.predict(count_train)\n",
    "accuracy_train = accuracy_score(Y_train, y_pred_train)\n",
    "print(\"Train Accuracy:\", accuracy_train)\n",
    "\n",
    "y_pred_SVC = rf_classifier.predict(count_test)\n",
    "accuracy = accuracy_score(Y_test, y_pred_SVC)\n",
    "print(\"Test Accuracy:\", accuracy)\n",
    "\n",
    "precision = precision_score(Y_test, y_pred_SVC)\n",
    "print(\"Test precision:\", precision)\n",
    "\n",
    "recall = recall_score(Y_test, y_pred_SVC)\n",
    "print(\"Test recall:\", recall)\n",
    "\n",
    "f1 = f1_score(Y_test, y_pred_SVC)\n",
    "print(\"Test f1:\", f1)\n",
    "\n",
    "confusion=confusion_matrix(Y_test, y_pred_SVC)\n",
    "print(\"Test confusion matrix:\",confusion)\n",
    "\n",
    "report = classification_report(Y_test, y_pred_SVC)\n",
    "print(\"Test Report:\", report)"
   ]
  },
  {
   "cell_type": "code",
   "execution_count": 19,
   "id": "cf4ca356",
   "metadata": {},
   "outputs": [
    {
     "name": "stderr",
     "output_type": "stream",
     "text": [
      "C:\\Users\\kanta\\anaconda3\\lib\\site-packages\\sklearn\\linear_model\\_logistic.py:814: ConvergenceWarning: lbfgs failed to converge (status=1):\n",
      "STOP: TOTAL NO. of ITERATIONS REACHED LIMIT.\n",
      "\n",
      "Increase the number of iterations (max_iter) or scale the data as shown in:\n",
      "    https://scikit-learn.org/stable/modules/preprocessing.html\n",
      "Please also refer to the documentation for alternative solver options:\n",
      "    https://scikit-learn.org/stable/modules/linear_model.html#logistic-regression\n",
      "  n_iter_i = _check_optimize_result(\n"
     ]
    },
    {
     "name": "stdout",
     "output_type": "stream",
     "text": [
      "Train Accuracy: 0.9995748613678374\n",
      "Test Accuracy: 0.9424975047133193\n",
      "Test precision: 0.9388941748599218\n",
      "Test recall: 0.9508565310492505\n",
      "Test f1: 0.9448374913559232\n",
      "Test confusion matrix: [[8116  578]\n",
      " [ 459 8881]]\n",
      "Test Report:               precision    recall  f1-score   support\n",
      "\n",
      "           0       0.95      0.93      0.94      8694\n",
      "           1       0.94      0.95      0.94      9340\n",
      "\n",
      "    accuracy                           0.94     18034\n",
      "   macro avg       0.94      0.94      0.94     18034\n",
      "weighted avg       0.94      0.94      0.94     18034\n",
      "\n"
     ]
    }
   ],
   "source": [
    "##LogisticRegression\n",
    "logistic_classifier = LogisticRegression()\n",
    "logistic_classifier.fit(count_train, Y_train)\n",
    "\n",
    "y_pred_train = logistic_classifier.predict(count_train)\n",
    "accuracy_train = accuracy_score(Y_train, y_pred_train)\n",
    "print(\"Train Accuracy:\", accuracy_train)\n",
    "\n",
    "y_pred = rf_classifier.predict(count_test)\n",
    "accuracy = accuracy_score(Y_test, y_pred)\n",
    "print(\"Test Accuracy:\", accuracy)\n",
    "\n",
    "precision = precision_score(Y_test, y_pred)\n",
    "print(\"Test precision:\", precision)\n",
    "\n",
    "recall = recall_score(Y_test, y_pred)\n",
    "print(\"Test recall:\", recall)\n",
    "\n",
    "f1 = f1_score(Y_test, y_pred)\n",
    "print(\"Test f1:\", f1)\n",
    "\n",
    "confusion=confusion_matrix(Y_test, y_pred)\n",
    "print(\"Test confusion matrix:\",confusion)\n",
    "\n",
    "report = classification_report(Y_test, y_pred)\n",
    "print(\"Test Report:\", report)"
   ]
  },
  {
   "cell_type": "code",
   "execution_count": null,
   "id": "5b0d664e",
   "metadata": {},
   "outputs": [],
   "source": []
  }
 ],
 "metadata": {
  "kernelspec": {
   "display_name": "Python 3 (ipykernel)",
   "language": "python",
   "name": "python3"
  },
  "language_info": {
   "codemirror_mode": {
    "name": "ipython",
    "version": 3
   },
   "file_extension": ".py",
   "mimetype": "text/x-python",
   "name": "python",
   "nbconvert_exporter": "python",
   "pygments_lexer": "ipython3",
   "version": "3.9.13"
  }
 },
 "nbformat": 4,
 "nbformat_minor": 5
}
